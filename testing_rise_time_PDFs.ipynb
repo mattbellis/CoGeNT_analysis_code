{
 "metadata": {
  "name": "",
  "signature": "sha256:8eb10f30db03c579dfff8464b28fa07c7739b9167a72ef0ea5dd812ba0ec7124"
 },
 "nbformat": 3,
 "nbformat_minor": 0,
 "worksheets": [
  {
   "cells": [
    {
     "cell_type": "code",
     "collapsed": false,
     "input": [
      "import numpy as np\n",
      "import matplotlib.pylab as plt\n",
      "\n",
      "from cogent_pdfs import surface_events,flat_events,compton_events,neutron_events\n",
      "\n",
      "import parameters\n",
      "\n",
      "from cogent_utilities import *\n",
      "\n",
      "################################################################################\n",
      "# Slow parameters\n",
      "# Using Nicole's simulated stuff\n",
      "mu = [0.269108,0.747275,0.068146]\n",
      "sigma = [0.531530,-0.020523]\n",
      "\n",
      "# Fast parameters\n",
      "#Using Nicole's simulated stuff\n",
      "fast_mean_rel_k = [0.431998,-1.525604,-0.024960]\n",
      "fast_sigma_rel_k = [-0.014644,5.745791,-6.168695]\n",
      "fast_num_rel_k = [-0.261322,5.553102,-5.9144]\n",
      "\n",
      "mu0 = [0.374145,0.628990,-1.369876]\n",
      "sigma0 = [1.383249,0.495044,0.263360]\n",
      "\n",
      "#############################################\n",
      "\n",
      "ranges,subranges,nbins = parameters.fitting_parameters(0)\n",
      "\n",
      "lo = [ranges[0][0],ranges[1][0]]\n",
      "hi = [ranges[0][1],ranges[1][1]]\n",
      "\n",
      "elo = lo[0]\n",
      "ehi = hi[0]"
     ],
     "language": "python",
     "metadata": {},
     "outputs": [],
     "prompt_number": 4
    },
    {
     "cell_type": "code",
     "collapsed": false,
     "input": [
      "max_days = 1238\n",
      "\n",
      "e = np.array([0.7]) # This is the energy\n",
      "t = np.array([1.0])\n",
      "rt = np.array([1.5])\n",
      "\n",
      "rt_slow = rise_time_prob_exp_progression(rt,e,mu,sigma,ranges[2][0],ranges[2][1])\n",
      "rt_fast = rise_time_prob_fast_exp_dist(rt,e,mu0,sigma0,fast_mean_rel_k,fast_sigma_rel_k,fast_num_rel_k,ranges[2][0],ranges[2][1])"
     ],
     "language": "python",
     "metadata": {},
     "outputs": [],
     "prompt_number": 14
    },
    {
     "cell_type": "code",
     "collapsed": false,
     "input": [
      "print rt_slow\n",
      "print rt_fast"
     ],
     "language": "python",
     "metadata": {},
     "outputs": [
      {
       "output_type": "stream",
       "stream": "stdout",
       "text": [
        "[ 0.45075521]\n",
        "[ 0.19345083]\n"
       ]
      }
     ],
     "prompt_number": 15
    },
    {
     "cell_type": "code",
     "collapsed": false,
     "input": [
      "e = 1.7*np.ones(1000) # This is the energy\n",
      "t = 1.0*np.ones(1000)\n",
      "rt = np.linspace(0,6,1000)\n",
      "\n",
      "rt_slow = rise_time_prob_exp_progression(rt,e,mu,sigma,ranges[2][0],ranges[2][1])\n",
      "rt_fast = rise_time_prob_fast_exp_dist(rt,e,mu0,sigma0,fast_mean_rel_k,fast_sigma_rel_k,fast_num_rel_k,ranges[2][0],ranges[2][1])"
     ],
     "language": "python",
     "metadata": {},
     "outputs": [],
     "prompt_number": 18
    },
    {
     "cell_type": "code",
     "collapsed": false,
     "input": [
      "plt.plot(rt,rt_slow,label='slow',lw=3)\n",
      "plt.plot(rt,rt_fast,label='fast',lw=3)\n",
      "plt.legend()"
     ],
     "language": "python",
     "metadata": {},
     "outputs": [
      {
       "metadata": {},
       "output_type": "pyout",
       "prompt_number": 23,
       "text": [
        "<matplotlib.legend.Legend at 0x7f4132cdbc50>"
       ]
      },
      {
       "metadata": {},
       "output_type": "display_data",
       "png": "[encoded data removed]",
       "text": [
        "<matplotlib.figure.Figure at 0x7f4132c6f650>"
       ]
      }
     ],
     "prompt_number": 23
    },
    {
     "cell_type": "code",
     "collapsed": false,
     "input": [
      "from scipy.integrate import cumtrapz\n",
      "\n",
      "slow_int = cumtrapz(rt_slow,rt)\n",
      "fast_int = cumtrapz(rt_fast,rt)\n",
      "\n",
      "\n",
      "plt.plot(rt[0:-1],slow_int)\n",
      "plt.plot(rt[0:-1],fast_int)"
     ],
     "language": "python",
     "metadata": {},
     "outputs": [
      {
       "metadata": {},
       "output_type": "pyout",
       "prompt_number": 30,
       "text": [
        "[<matplotlib.lines.Line2D at 0x7f41327febd0>]"
       ]
      },
      {
       "metadata": {},
       "output_type": "display_data",
       "png": "[encoded data removed]",
       "text": [
        "<matplotlib.figure.Figure at 0x7f41327fed90>"
       ]
      }
     ],
     "prompt_number": 30
    },
    {
     "cell_type": "code",
     "collapsed": false,
     "input": [],
     "language": "python",
     "metadata": {},
     "outputs": [],
     "prompt_number": 30
    },
    {
     "cell_type": "code",
     "collapsed": false,
     "input": [],
     "language": "python",
     "metadata": {},
     "outputs": []
    }
   ],
   "metadata": {}
  }
 ]
}