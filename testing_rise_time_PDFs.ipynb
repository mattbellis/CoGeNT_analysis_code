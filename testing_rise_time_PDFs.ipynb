{
 "metadata": {
  "name": "",
  "signature": "sha256:2294d15e3019141b987626a691a5d8a2dc1ad8ce1917c853b937b2cd69277e5b"
 },
 "nbformat": 3,
 "nbformat_minor": 0,
 "worksheets": [
  {
   "cells": [
    {
     "cell_type": "code",
     "collapsed": false,
     "input": [
      "import numpy as np\n",
      "import matplotlib.pylab as plt\n",
      "\n",
      "import seaborn as sns\n",
      "\n",
      "from cogent_pdfs import surface_events,flat_events,compton_events,neutron_events,wimp\n",
      "import chris_kelso_code as dmm\n",
      "\n",
      "\n",
      "import parameters\n",
      "\n",
      "from cogent_utilities import *\n",
      "\n",
      "################################################################################\n",
      "# Slow parameters\n",
      "# Using Nicole's simulated stuff\n",
      "mu = [0.269108,0.747275,0.068146]\n",
      "sigma = [0.531530,-0.020523]\n",
      "\n",
      "# Fast parameters\n",
      "#Using Nicole's simulated stuff\n",
      "fast_mean_rel_k = [0.431998,-1.525604,-0.024960]\n",
      "fast_sigma_rel_k = [-0.014644,5.745791,-6.168695]\n",
      "fast_num_rel_k = [-0.261322,5.553102,-5.9144]\n",
      "\n",
      "mu0 = [0.374145,0.628990,-1.369876]\n",
      "sigma0 = [1.383249,0.495044,0.263360]\n",
      "\n",
      "#############################################\n",
      "\n",
      "ranges,subranges,nbins = parameters.fitting_parameters(0)\n",
      "\n",
      "lo = [ranges[0][0],ranges[1][0],ranges[2][0]]\n",
      "hi = [ranges[0][1],ranges[1][1],ranges[2][1]]\n",
      "\n",
      "elo = lo[0]\n",
      "ehi = hi[0]\n",
      "\n",
      "tlo = lo[1]\n",
      "thi = hi[1]\n",
      "\n",
      "rtlo = lo[2]\n",
      "rthi = hi[2]\n",
      "\n",
      "print elo,ehi\n",
      "print tlo,thi\n",
      "print rtlo,rthi"
     ],
     "language": "python",
     "metadata": {},
     "outputs": [
      {
       "output_type": "stream",
       "stream": "stdout",
       "text": [
        "0.6 3.2\n",
        "1.0 1238.0\n",
        "0.0 6.0\n"
       ]
      }
     ],
     "prompt_number": 1
    },
    {
     "cell_type": "code",
     "collapsed": false,
     "input": [
      "max_days = 1238\n",
      "\n",
      "e = np.array([0.7]) # This is the energy\n",
      "t = np.array([1.0])\n",
      "rt = np.array([1.5])\n",
      "\n",
      "rt_slow = rise_time_prob_exp_progression(rt,e,mu,sigma,ranges[2][0],ranges[2][1])\n",
      "rt_fast = rise_time_prob_fast_exp_dist(rt,e,mu0,sigma0,fast_mean_rel_k,fast_sigma_rel_k,fast_num_rel_k,ranges[2][0],ranges[2][1])"
     ],
     "language": "python",
     "metadata": {},
     "outputs": [],
     "prompt_number": 2
    },
    {
     "cell_type": "code",
     "collapsed": false,
     "input": [
      "print rt_slow\n",
      "print rt_fast"
     ],
     "language": "python",
     "metadata": {},
     "outputs": [
      {
       "output_type": "stream",
       "stream": "stdout",
       "text": [
        "[ 0.45075521]\n",
        "[ 0.19345083]\n"
       ]
      }
     ],
     "prompt_number": 3
    },
    {
     "cell_type": "code",
     "collapsed": false,
     "input": [
      "e = 0.7*np.ones(1000) # This is the energy\n",
      "t = 1.0*np.ones(1000)\n",
      "rt = np.linspace(0,6,1000)\n",
      "\n",
      "rt_slow = rise_time_prob_exp_progression(rt,e,mu,sigma,ranges[2][0],ranges[2][1])\n",
      "rt_fast = rise_time_prob_fast_exp_dist(rt,e,mu0,sigma0,fast_mean_rel_k,fast_sigma_rel_k,fast_num_rel_k,ranges[2][0],ranges[2][1])"
     ],
     "language": "python",
     "metadata": {},
     "outputs": [],
     "prompt_number": 4
    },
    {
     "cell_type": "code",
     "collapsed": false,
     "input": [
      "plt.plot(rt,rt_slow,label='slow',lw=3)\n",
      "plt.plot(rt,rt_fast,label='fast',lw=3)\n",
      "plt.legend()"
     ],
     "language": "python",
     "metadata": {},
     "outputs": [
      {
       "metadata": {},
       "output_type": "pyout",
       "prompt_number": 5,
       "text": [
        "<matplotlib.legend.Legend at 0x7f32aa37f590>"
       ]
      },
      {
       "metadata": {},
       "output_type": "display_data",
       "png": "[encoded data removed]",
       "text": [
        "<matplotlib.figure.Figure at 0x7f32aa37f750>"
       ]
      }
     ],
     "prompt_number": 5
    },
    {
     "cell_type": "code",
     "collapsed": false,
     "input": [
      "from scipy.integrate import cumtrapz\n",
      "\n",
      "slow_int = cumtrapz(rt_slow,rt)\n",
      "fast_int = cumtrapz(rt_fast,rt)\n",
      "\n",
      "\n",
      "plt.plot(rt[0:-1],slow_int)\n",
      "plt.plot(rt[0:-1],fast_int)"
     ],
     "language": "python",
     "metadata": {},
     "outputs": [
      {
       "metadata": {},
       "output_type": "pyout",
       "prompt_number": 6,
       "text": [
        "[<matplotlib.lines.Line2D at 0x7f3296e9b110>]"
       ]
      },
      {
       "metadata": {},
       "output_type": "display_data",
       "png": "[encoded data removed]",
       "text": [
        "<matplotlib.figure.Figure at 0x7f3296e9bbd0>"
       ]
      }
     ],
     "prompt_number": 6
    },
    {
     "cell_type": "code",
     "collapsed": false,
     "input": [
      "# Read in from a previous fits of results.\n",
      "results_file = open('./fit_results/results_bkg_only_FOR_GEN_DATA.txt')\n",
      "results = eval(results_file.readline())\n",
      "\n",
      "\n"
     ],
     "language": "python",
     "metadata": {},
     "outputs": [],
     "prompt_number": 7
    },
    {
     "cell_type": "code",
     "collapsed": false,
     "input": [
      "e = np.array([0.7]) # This is the energy\n",
      "t = np.array([1.0])\n",
      "rt = np.array([1.0])\n",
      "\n",
      "rt_slow = rise_time_prob_exp_progression(rt,e,mu,sigma,ranges[2][0],ranges[2][1])\n",
      "rt_fast = rise_time_prob_fast_exp_dist(rt,e,mu0,sigma0,fast_mean_rel_k,fast_sigma_rel_k,fast_num_rel_k,ranges[2][0],ranges[2][1])\n",
      "\n",
      "data = [e,t,0,0,rt_slow]\n",
      "\n",
      "prob_surf = surface_events(data,results,lo,hi,subranges=subranges,efficiency=None)\n",
      "\n",
      "data = [e,t,0,rt_fast,0]\n",
      "\n",
      "prob_comp = compton_events(data,results,lo,hi,subranges=subranges,efficiency=None)\n",
      "prob_neut = neutron_events(data,results,lo,hi,subranges=subranges,efficiency=None)\n"
     ],
     "language": "python",
     "metadata": {},
     "outputs": [],
     "prompt_number": 8
    },
    {
     "cell_type": "code",
     "collapsed": false,
     "input": [
      "print \"Rise time probs: \"\n",
      "print rt_slow\n",
      "print rt_fast\n",
      "\n",
      "print \"\\nProbs: \"\n",
      "print prob_surf\n",
      "print prob_comp\n",
      "print prob_neut"
     ],
     "language": "python",
     "metadata": {},
     "outputs": [
      {
       "output_type": "stream",
       "stream": "stdout",
       "text": [
        "Rise time probs: \n",
        "[ 0.3244291]\n",
        "[ 0.32832656]\n",
        "\n",
        "Probs: \n",
        "[ 0.00023349]\n",
        "[ 0.00012675]\n",
        "[ 0.00020828]\n"
       ]
      }
     ],
     "prompt_number": 9
    },
    {
     "cell_type": "code",
     "collapsed": false,
     "input": [
      "e = 0.7*np.ones(1000) # This is the energy\n",
      "t = 1.0*np.ones(1000)\n",
      "rt = np.linspace(0,6,1000)\n",
      "\n",
      "\n",
      "rt_slow = rise_time_prob_exp_progression(rt,e,mu,sigma,ranges[2][0],ranges[2][1])\n",
      "rt_fast = rise_time_prob_fast_exp_dist(rt,e,mu0,sigma0,fast_mean_rel_k,fast_sigma_rel_k,fast_num_rel_k,ranges[2][0],ranges[2][1])\n",
      "\n",
      "data = [e,t,0,0,rt_slow]\n",
      "\n",
      "prob_surf = surface_events(data,results,lo,hi,subranges=subranges,efficiency=None)\n",
      "\n",
      "data = [e,t,0,rt_fast,0]\n",
      "\n",
      "prob_comp = compton_events(data,results,lo,hi,subranges=subranges,efficiency=None)\n",
      "prob_neut = neutron_events(data,results,lo,hi,subranges=subranges,efficiency=None)\n"
     ],
     "language": "python",
     "metadata": {},
     "outputs": [],
     "prompt_number": 10
    },
    {
     "cell_type": "code",
     "collapsed": false,
     "input": [
      "plt.plot(rt,prob_surf)\n",
      "plt.plot(rt,prob_comp)\n",
      "plt.plot(rt,prob_neut)"
     ],
     "language": "python",
     "metadata": {},
     "outputs": [
      {
       "metadata": {},
       "output_type": "pyout",
       "prompt_number": 11,
       "text": [
        "[<matplotlib.lines.Line2D at 0x7f3293422f10>]"
       ]
      },
      {
       "metadata": {},
       "output_type": "display_data",
       "png": "[encoded data removed]",
       "text": [
        "<matplotlib.figure.Figure at 0x7f3296dc6610>"
       ]
      }
     ],
     "prompt_number": 11
    },
    {
     "cell_type": "code",
     "collapsed": false,
     "input": [
      "e = np.linspace(0.5,3.2,1000) # This is the energy\n",
      "t = 1.0*np.ones(1000)\n",
      "rt = 0.7*np.ones(1000)\n",
      "\n",
      "\n",
      "rt_slow = rise_time_prob_exp_progression(rt,e,mu,sigma,ranges[2][0],ranges[2][1])\n",
      "rt_fast = rise_time_prob_fast_exp_dist(rt,e,mu0,sigma0,fast_mean_rel_k,fast_sigma_rel_k,fast_num_rel_k,ranges[2][0],ranges[2][1])\n",
      "\n",
      "data = [e,t,0,0,rt_slow]\n",
      "\n",
      "prob_surf = surface_events(data,results,lo,hi,subranges=subranges,efficiency=None)/results['num_surf']\n",
      "\n",
      "data = [e,t,0,rt_fast,0]\n",
      "\n",
      "prob_comp = compton_events(data,results,lo,hi,subranges=subranges,efficiency=None)/results['num_comp']\n",
      "prob_neut = neutron_events(data,results,lo,hi,subranges=subranges,efficiency=None)/results['num_neutrons']\n",
      "\n",
      "print results['num_surf']\n",
      "print results['num_comp']\n",
      "print results['num_neutrons']\n",
      "print \"\\n\"\n",
      "print results['e_exp_flat']"
     ],
     "language": "python",
     "metadata": {},
     "outputs": [
      {
       "output_type": "stream",
       "stream": "stdout",
       "text": [
        "4482.60244303\n",
        "2287.04655568\n",
        "862.992816568\n",
        "\n",
        "\n",
        "1.00211832961e-05\n"
       ]
      }
     ],
     "prompt_number": 12
    },
    {
     "cell_type": "code",
     "collapsed": false,
     "input": [
      "plt.plot(e,prob_surf,'b',label='surf',lw=3)\n",
      "plt.plot(e,prob_comp,'g',label='comp',lw=3)\n",
      "plt.plot(e,prob_neut,'r',label='neut',lw=3)\n",
      "plt.legend()"
     ],
     "language": "python",
     "metadata": {},
     "outputs": [
      {
       "metadata": {},
       "output_type": "pyout",
       "prompt_number": 13,
       "text": [
        "<matplotlib.legend.Legend at 0x7f3293377b50>"
       ]
      },
      {
       "metadata": {},
       "output_type": "display_data",
       "png": "[encoded data removed]",
       "text": [
        "<matplotlib.figure.Figure at 0x7f3296d72e90>"
       ]
      }
     ],
     "prompt_number": 13
    },
    {
     "cell_type": "code",
     "collapsed": false,
     "input": [
      "results['num_surf']"
     ],
     "language": "python",
     "metadata": {},
     "outputs": [
      {
       "metadata": {},
       "output_type": "pyout",
       "prompt_number": 14,
       "text": [
        "4482.602443031114"
       ]
      }
     ],
     "prompt_number": 14
    },
    {
     "cell_type": "code",
     "collapsed": false,
     "input": [
      "y  = lambda x,y: rthi\n",
      "\n",
      "print y(2,3)\n",
      "\n",
      "y =  None"
     ],
     "language": "python",
     "metadata": {},
     "outputs": [
      {
       "output_type": "stream",
       "stream": "stdout",
       "text": [
        "6.0\n"
       ]
      }
     ],
     "prompt_number": 15
    },
    {
     "cell_type": "code",
     "collapsed": false,
     "input": [
      "from scipy.integrate import nquad\n",
      "\n",
      "xlo = lo[0]\n",
      "xhi = hi[0]\n",
      "ylo = lo[1]\n",
      "yhi = hi[1]\n",
      "zlo = lo[2]\n",
      "zhi = hi[2]\n",
      "        \n",
      "def test_func(x,y,z):\n",
      "    prob  = pdfs.exp(x,0.0,xlo,xhi)\n",
      "    prob  *= pdfs.exp(y,0.0,ylo,yhi)\n",
      "    prob  *= pdfs.exp(z,0.0,zlo,zhi)\n",
      "    return prob\n",
      "\n",
      "#vals = nquad(test_func,[[elo,ehi]])\n",
      "#vals = nquad(test_func,[[elo,ehi],[tlo,thi]])\n",
      "vals = nquad(test_func,[[elo,ehi],[tlo,thi],[rtlo,rthi]])\n",
      "\n",
      "print vals"
     ],
     "language": "python",
     "metadata": {},
     "outputs": [
      {
       "output_type": "stream",
       "stream": "stdout",
       "text": [
        "(0.9999999999999998, 1.1102230246251562e-14)\n"
       ]
      }
     ],
     "prompt_number": 18
    },
    {
     "cell_type": "code",
     "collapsed": false,
     "input": [
      "from scipy.integrate import tplquad\n",
      "from cogent_pdfs import surface_events,flat_events,compton_events,neutron_events\n",
      "\n",
      "\n",
      "def test_func(z,y,x,flag,flat):\n",
      "    \n",
      "    #flag = 0\n",
      "    \n",
      "    prob = None\n",
      "    \n",
      "    if flag==0:\n",
      "        data = [x,y,0,0,z]\n",
      "        prob = surface_events(data,results,lo,hi)/z\n",
      "        rt_slow = rise_time_prob_exp_progression(z,x,mu,sigma,ranges[2][0],ranges[2][1])\n",
      "        prob *= rt_slow\n",
      "    \n",
      "    elif flag==1:\n",
      "        data = [x,y,0,z,0]\n",
      "        prob = compton_events(data,results,lo,hi)/z\n",
      "        rt_fast = rise_time_prob_fast_exp_dist(z,x,mu0,sigma0,fast_mean_rel_k,fast_sigma_rel_k,fast_num_rel_k,ranges[2][0],ranges[2][1])\n",
      "        prob *= rt_fast\n",
      "    \n",
      "    elif flag==2:\n",
      "        data = [x,y,0,z,0]\n",
      "        prob = neutron_events(data,results,lo,hi)/z\n",
      "        rt_fast = rise_time_prob_fast_exp_dist(z,x,mu0,sigma0,fast_mean_rel_k,fast_sigma_rel_k,fast_num_rel_k,ranges[2][0],ranges[2][1])\n",
      "        prob *= rt_fast\n",
      "        \n",
      "        \n",
      "    elif flag==3:  \n",
      "        xlo = lo[0]\n",
      "        xhi = hi[0]\n",
      "        ylo = lo[1]\n",
      "        yhi = hi[1]\n",
      "        zlo = lo[2]\n",
      "        zhi = hi[2]\n",
      "        \n",
      "        prob  = pdfs.exp(x,results['e_exp_flat'],xlo,xhi)\n",
      "        prob *= pdfs.exp(y,results['t_exp_flat'],ylo,yhi)\n",
      "        prob *= pdfs.exp(z,results['t_exp_flat'],zlo,zhi)\n",
      "        \n",
      "    elif flag==4:\n",
      "        prob = wimp(y,x,dmm.AGe,10,7e-42,model='shm',num_wimps=305)*0.333\n",
      "        rt_fast = rise_time_prob_fast_exp_dist(z,x,mu0,sigma0,fast_mean_rel_k,fast_sigma_rel_k,fast_num_rel_k,ranges[2][0],ranges[2][1])\n",
      "        prob *= rt_fast\n",
      "        \n",
      "    return prob\n",
      "    \n",
      "#'''\n",
      "vals = tplquad(test_func,elo,ehi, lambda x:tlo, lambda x:thi, lambda x,y: rtlo, lambda x,y: rthi, args=(0,0))\n",
      "\n",
      "print vals\n",
      "    \n",
      "vals = tplquad(test_func,elo,ehi, lambda x:tlo, lambda x:thi, lambda x,y: rtlo, lambda x,y: rthi, args=(1,0))\n",
      "\n",
      "print vals\n",
      "\n",
      "vals = tplquad(test_func,elo,ehi, lambda x:tlo, lambda x:thi, lambda x,y: rtlo, lambda x,y: rthi, args=(2,0))\n",
      "\n",
      "print vals\n",
      "#'''\n",
      "\n",
      "vals = tplquad(test_func,elo,ehi, lambda x:tlo, lambda x:thi, lambda x,y: rtlo, lambda x,y: rthi, args=(3,0),epsabs=0.1,epsrel=0.1)\n",
      "print vals\n",
      "\n",
      "vals = tplquad(test_func,elo,ehi, lambda x:tlo, lambda x:thi, lambda x,y: rtlo, lambda x,y: rthi, args=(4,0),epsabs=0.1,epsrel=0.1)\n",
      "print vals\n",
      "\n"
     ],
     "language": "python",
     "metadata": {},
     "outputs": [
      {
       "output_type": "stream",
       "stream": "stdout",
       "text": [
        "(0.9999996716071933, 1.1102226600359013e-14)\n",
        "(0.9999832351882871, 2.4451200947325932e-11)"
       ]
      },
      {
       "output_type": "stream",
       "stream": "stdout",
       "text": [
        "\n",
        "(0.9999848960830039, 8.80948053163484e-11)"
       ]
      },
      {
       "output_type": "stream",
       "stream": "stdout",
       "text": [
        "\n",
        "(0.9999999946492429, 1.110223018684623e-14)"
       ]
      },
      {
       "output_type": "stream",
       "stream": "stdout",
       "text": [
        "\n",
        "(1.0013786126231965, 4.1178690393655706e-10)"
       ]
      },
      {
       "output_type": "stream",
       "stream": "stdout",
       "text": [
        "\n"
       ]
      }
     ],
     "prompt_number": 19
    },
    {
     "cell_type": "code",
     "collapsed": false,
     "input": [
      "# (917.1786090560157, 4.115091806790446e-07) "
     ],
     "language": "python",
     "metadata": {},
     "outputs": []
    },
    {
     "cell_type": "code",
     "collapsed": false,
     "input": [
      "from cogent_pdfs import surface_events,flat_events,compton_events,neutron_events\n",
      "\n",
      "import parameters\n",
      "\n",
      "from cogent_utilities import *\n",
      "\n",
      "'''\n",
      "def intfunc(x):\n",
      "    \n",
      "    ret = \n",
      "'''\n",
      "\n",
      "x = np.linspace(0,4,1000)\n",
      "y = pdfs.poly(x,[],0.0,4.0)\n",
      "\n",
      "#print y\n",
      "plt.plot(x,y)\n",
      "\n",
      "#vals = integrate.quad()"
     ],
     "language": "python",
     "metadata": {},
     "outputs": []
    },
    {
     "cell_type": "code",
     "collapsed": false,
     "input": [],
     "language": "python",
     "metadata": {},
     "outputs": []
    },
    {
     "cell_type": "code",
     "collapsed": false,
     "input": [],
     "language": "python",
     "metadata": {},
     "outputs": []
    }
   ],
   "metadata": {}
  }
 ]
}