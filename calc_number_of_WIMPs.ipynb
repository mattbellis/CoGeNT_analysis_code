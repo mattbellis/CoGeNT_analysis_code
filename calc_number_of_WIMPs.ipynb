{
 "metadata": {
  "name": "",
  "signature": "sha256:65f2849833a5c6a5d40c02c6a3f6961f23aa07d6bd719581b3cbc65ef95a9512"
 },
 "nbformat": 3,
 "nbformat_minor": 0,
 "worksheets": [
  {
   "cells": [
    {
     "cell_type": "code",
     "collapsed": false,
     "input": [
      "import matplotlib.pylab as plt\n",
      "import numpy as np\n",
      "import scipy.special as special\n",
      "import scipy.constants as constants\n",
      "from scipy.integrate import dblquad\n",
      "\n",
      "import chris_kelso_code as dmm\n",
      "#import chris_kelso_code_cython as dmm\n",
      "\n",
      "import plotting_utilities as pu\n",
      "import lichen.plotting_utilities as plotting_utilities\n",
      "import fitting_utilities as fu\n",
      "import cogent_pdfs as cpdf\n",
      "from cogent_utilities import sigmoid\n",
      "from cogent_utilities import *\n",
      "\n",
      "import parameters\n",
      "\n",
      "\n",
      "################################################################################\n",
      "# Slow parameters\n",
      "# Using Nicole's simulated stuff\n",
      "mu = [0.269108,0.747275,0.068146]\n",
      "sigma = [0.531530,-0.020523]\n",
      "\n",
      "# Fast parameters\n",
      "#Using Nicole's simulated stuff\n",
      "fast_mean_rel_k = [0.431998,-1.525604,-0.024960]\n",
      "fast_sigma_rel_k = [-0.014644,5.745791,-6.168695]\n",
      "fast_num_rel_k = [-0.261322,5.553102,-5.9144]\n",
      "\n",
      "mu0 = [0.374145,0.628990,-1.369876]\n",
      "sigma0 = [1.383249,0.495044,0.263360]\n",
      "\n",
      "#############################################\n",
      "\n",
      "ranges,subranges,nbins = parameters.fitting_parameters(0)\n",
      "\n",
      "lo = [ranges[0][0],ranges[1][0],ranges[2][0]]\n",
      "hi = [ranges[0][1],ranges[1][1],ranges[2][1]]\n",
      "\n",
      "elo = lo[0]\n",
      "ehi = hi[0]\n",
      "\n",
      "tlo = lo[1]\n",
      "thi = hi[1]\n",
      "\n",
      "rtlo = lo[2]\n",
      "rthi = hi[2]"
     ],
     "language": "python",
     "metadata": {},
     "outputs": [],
     "prompt_number": 68
    },
    {
     "cell_type": "code",
     "collapsed": false,
     "input": [
      "target_atom = dmm.AGe\n",
      "#target_atom = dmm.AGe\n",
      "#target_atom = dmm.AXe\n",
      "#target_atom = dmm.ANa\n",
      "\n",
      "mDM = 10.0 # GeV\n",
      "sigma_n = 7e-42\n",
      "elo = 0.5\n",
      "ehi = 3.2\n",
      "\n",
      "max_days = 1238\n",
      "\n",
      "max_val = 0.86786\n",
      "threshold = 0.345\n",
      "sigmoid_sigma = 0.241\n",
      "\n",
      "#eff_scaling = 1.0 # old data\n",
      "eff_scaling = 0.9 # 3yr dataset\n",
      "#efficiency = lambda x: sigmoid(x,threshold,sigmoid_sigma,max_val)/eff_scaling\n",
      "efficiency = lambda x: 1.0\n",
      "\n",
      "model = 'shm'\n"
     ],
     "language": "python",
     "metadata": {},
     "outputs": [],
     "prompt_number": 69
    },
    {
     "cell_type": "code",
     "collapsed": false,
     "input": [
      "num_wimps = integrate.dblquad(cpdf.wimp,elo,ehi,lambda x: 1,lambda x:max_days,args=(target_atom,mDM,sigma_n,efficiency,model),epsabs=0.001)[0]\n",
      "\n",
      "# CoGeNT is smaller\n",
      "num_wimps *= 0.333\n"
     ],
     "language": "python",
     "metadata": {},
     "outputs": [],
     "prompt_number": 70
    },
    {
     "cell_type": "code",
     "collapsed": false,
     "input": [
      "print \"%-15s %3.1f\" % (\"WIMP mass:\",mDM)\n",
      "print \"%-15s %3.1e\" % (\"cross sec:\", sigma_n)\n",
      "print \"%-15s %3.2f - %3.2f\" % (\"Energy range:\",elo,ehi)\n",
      "print \"%-15s %6.2f\" % (\"# WIMPs:\", num_wimps)\n"
     ],
     "language": "python",
     "metadata": {},
     "outputs": [
      {
       "output_type": "stream",
       "stream": "stdout",
       "text": [
        "WIMP mass:      10.0\n",
        "cross sec:      7.0e-42\n",
        "Energy range:   0.50 - 3.20\n",
        "# WIMPs:        385.37\n"
       ]
      }
     ],
     "prompt_number": 71
    },
    {
     "cell_type": "code",
     "collapsed": false,
     "input": [
      "e = np.linspace(0.5,3.2,1000)\n",
      "t = np.ones(1000)\n",
      "rt = 0.7*np.ones(1000)\n",
      "\n",
      "pdf = cpdf.wimp(t,e,dmm.AGe,mDM,sigma_n,efficiency=efficiency,model=model)\n",
      "rt_fast = rise_time_prob_fast_exp_dist(rt,e,mu0,sigma0,fast_mean_rel_k,fast_sigma_rel_k,fast_num_rel_k,ranges[2][0],ranges[2][1])"
     ],
     "language": "python",
     "metadata": {},
     "outputs": [],
     "prompt_number": 77
    },
    {
     "cell_type": "code",
     "collapsed": false,
     "input": [
      "#print e\n",
      "#print pdf\n",
      "#print pdf*rt_fast"
     ],
     "language": "python",
     "metadata": {},
     "outputs": [],
     "prompt_number": 79
    },
    {
     "cell_type": "code",
     "collapsed": false,
     "input": [
      "plt.plot(e,pdf)\n",
      "plt.plot(e,pdf*rt_fast)\n",
      "plt.ylim(0)"
     ],
     "language": "python",
     "metadata": {},
     "outputs": [
      {
       "metadata": {},
       "output_type": "pyout",
       "prompt_number": 80,
       "text": [
        "(0, 2.5)"
       ]
      },
      {
       "metadata": {},
       "output_type": "display_data",
       "png": "[encoded data removed]",
       "text": [
        "<matplotlib.figure.Figure at 0x7f551a497ad0>"
       ]
      }
     ],
     "prompt_number": 80
    },
    {
     "cell_type": "code",
     "collapsed": false,
     "input": [],
     "language": "python",
     "metadata": {},
     "outputs": []
    }
   ],
   "metadata": {}
  }
 ]
}