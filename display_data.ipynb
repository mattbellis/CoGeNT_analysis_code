{
 "cells": [
  {
   "cell_type": "code",
   "execution_count": null,
   "metadata": {
    "collapsed": true
   },
   "outputs": [],
   "source": [
    "import numpy as np\n",
    "import matplotlib.pylab as plt\n",
    "%matplotlib notebook\n",
    "\n",
    "import cogent_utilities as ctools\n",
    "\n",
    "import lichen.lichen as lch"
   ]
  },
  {
   "cell_type": "code",
   "execution_count": null,
   "metadata": {
    "collapsed": false
   },
   "outputs": [],
   "source": [
    "#infile_name = 'data/LE.txt'\n",
    "#infile_name = 'data/HE.txt'\n",
    "#infile_name0 = 'MC_files/mc_surface_bulk_samples_1825days_1000events.dat'\n",
    "infile_name1 = 'MC_files/mc_neutron_bulk_samples_1825days_1000events.dat'\n",
    "infile_name2 = 'MC_files/mc_compton_bulk_samples_1825days_1000events.dat'\n",
    "infile_name3 = 'MC_files/mc_lshell_bulk_samples_1825days_1000events.dat'\n",
    "infile_name4 = 'MC_files/mc_shm_wimps_bulk_samples_1825days_1000events.dat'\n",
    "\n",
    "infile_name0 = 'MC_files/sample_AMANDA_surface_3424_2646_2646_neutron_1318_1023_1023_compton_815_658_658_lshell_2506_1947_1947_lshell_0_0_0_from_1825days_1000000events_samples_000.dat'\n",
    "\n",
    "\n",
    "# For reading in data\n",
    "#tdays,energies,rise_time = ctools.get_3yr_cogent_data(infile_name, first_event=ctools.first_event, calibration=0)\n",
    "\n",
    "# To read in MC\n",
    "tdays0,energies0,rise_time0 = ctools.get_3yr_cogent_data(infile_name0, first_event=ctools.first_event, calibration=999)\n",
    "tdays1,energies1,rise_time1 = ctools.get_3yr_cogent_data(infile_name1, first_event=ctools.first_event, calibration=999)\n",
    "tdays2,energies2,rise_time2 = ctools.get_3yr_cogent_data(infile_name2, first_event=ctools.first_event, calibration=999)\n",
    "tdays3,energies3,rise_time3 = ctools.get_3yr_cogent_data(infile_name3, first_event=ctools.first_event, calibration=999)\n",
    "tdays4,energies4,rise_time4 = ctools.get_3yr_cogent_data(infile_name4, first_event=ctools.first_event, calibration=999)"
   ]
  },
  {
   "cell_type": "code",
   "execution_count": null,
   "metadata": {
    "collapsed": false,
    "scrolled": true
   },
   "outputs": [],
   "source": [
    "tdays0"
   ]
  },
  {
   "cell_type": "code",
   "execution_count": null,
   "metadata": {
    "collapsed": false,
    "scrolled": false
   },
   "outputs": [],
   "source": [
    "plt.figure()\n",
    "lch.hist_err(tdays0[(tdays0>3.0*365)*(tdays0<8.5*365)],bins=25)"
   ]
  },
  {
   "cell_type": "code",
   "execution_count": null,
   "metadata": {
    "collapsed": false
   },
   "outputs": [],
   "source": [
    "len(energies0[tdays0>365])"
   ]
  },
  {
   "cell_type": "code",
   "execution_count": null,
   "metadata": {
    "collapsed": false
   },
   "outputs": [],
   "source": [
    "plt.figure()\n",
    "lch.hist_err(tdays0[energies0<6],bins=100);\n",
    "plt.title('Surface')\n",
    "\n",
    "plt.figure()\n",
    "lch.hist_err(tdays1[energies1<6],bins=100);\n",
    "plt.title('Neutron')\n",
    "\n",
    "plt.figure()\n",
    "lch.hist_err(tdays2[energies2<6],bins=100);\n",
    "plt.title('Compton')\n",
    "\n",
    "plt.figure()\n",
    "lch.hist_err(tdays3[energies3<6],bins=100);\n",
    "plt.title('L-shell')\n",
    "\n",
    "plt.figure()\n",
    "lch.hist_err(tdays4[energies4<6],bins=100);\n",
    "plt.title('Wimps|')"
   ]
  },
  {
   "cell_type": "code",
   "execution_count": null,
   "metadata": {
    "collapsed": false
   },
   "outputs": [],
   "source": [
    "plt.figure()\n",
    "plt.plot(tdays0, energies0, 'r.', label = 'surface')\n",
    "plt.plot(tdays1, energies1, 'b.', label = 'neutron')\n",
    "plt.plot(tdays2, energies2, 'g.', label = 'compton')\n",
    "plt.plot(tdays3, energies3, 'c.', label = 'l shell')\n",
    "\n",
    "\n",
    "plt.xlabel('tdays')\n",
    "plt.ylabel('energies')\n",
    "plt.legend(bbox_to_anchor=(0., 1.02, 1., .102), loc=3, ncol=5, mode=\"expand\", borderaxespad=0.)\n",
    "\n",
    "plt.figure()\n",
    "plt.plot(tdays4, energies4, 'ko', markerfacecolor = 'none', label = 'wimps')\n",
    "\n",
    "\n",
    "plt.xlabel('tdays')\n",
    "plt.ylabel('energies')\n",
    "plt.legend(bbox_to_anchor=(0., 1.02, 1., .102), loc=3, ncol=5, mode=\"expand\", borderaxespad=0.)\n",
    "\n",
    "\n",
    "#the l-shell background has a specific energy where the other backgrounds do not. \n",
    "#the shm wimps energies also don't have a particular pattern. A lot have very low energies, but "
   ]
  },
  {
   "cell_type": "code",
   "execution_count": null,
   "metadata": {
    "collapsed": false
   },
   "outputs": [],
   "source": [
    "plt.figure()\n",
    "plt.plot(energies0,rise_time0,'.r',markersize=2,alpha=1, label = 'Surface')\n",
    "plt.plot(energies1,rise_time1,'.b',markersize=2,alpha=1, label = 'Neutron')\n",
    "plt.plot(energies2,rise_time2,'.g',markersize=2,alpha=1, label = 'Compton')\n",
    "plt.plot(energies3,rise_time3,'.c',markersize=2,alpha=1, label = 'L-shell')\n",
    "\n",
    "plt.ylim([0,6.5])\n",
    "plt.xlabel('energy(keVee)')\n",
    "plt.ylabel('risetimes (us)')\n",
    "plt.legend(bbox_to_anchor=(0., 1.02, 1., .102), loc=3, ncol=5, mode=\"expand\", borderaxespad=0.)\n",
    "\n",
    "\n",
    "\n",
    "plt.figure()\n",
    "plt.plot(energies4,rise_time4,'ok',markerfacecolor = 'none',alpha=1, label = 'Wimps')\n",
    "plt.ylim([0,6.5])\n",
    "plt.xlabel('energy(keVee)')\n",
    "plt.ylabel('risetimes (us)')\n",
    "plt.legend(bbox_to_anchor=(0., 1.02, 1., .102), loc=3, ncol=5, mode=\"expand\", borderaxespad=0.)"
   ]
  },
  {
   "cell_type": "code",
   "execution_count": null,
   "metadata": {
    "collapsed": true
   },
   "outputs": [],
   "source": []
  },
  {
   "cell_type": "code",
   "execution_count": null,
   "metadata": {
    "collapsed": true
   },
   "outputs": [],
   "source": []
  },
  {
   "cell_type": "code",
   "execution_count": null,
   "metadata": {
    "collapsed": true
   },
   "outputs": [],
   "source": [
    "#plots are comparing to plots from paper titled \n",
    "#\"CoGeNT: A search for Loq-Mass Dark Matter using p-type Point Contact Germanium Detectors"
   ]
  },
  {
   "cell_type": "code",
   "execution_count": null,
   "metadata": {
    "collapsed": false
   },
   "outputs": [],
   "source": [
    "plt.figure()\n",
    "plt.plot(energies,rise_time,'.',markersize=1,alpha=1)\n",
    "plt.ylim([0,10])\n",
    "plt.xlabel('energy(keVee)')\n",
    "plt.ylabel('risetimes (us)')\n",
    "#figure 12"
   ]
  },
  {
   "cell_type": "code",
   "execution_count": null,
   "metadata": {
    "collapsed": false
   },
   "outputs": [],
   "source": [
    "plt.figure()\n",
    "plt.plot(energies,rise_time,'.',markersize=1,alpha=1)\n",
    "plt.yscale('log')\n",
    "plt.ylim([0,10])\n",
    "plt.xlabel('energy(keVee)')\n",
    "plt.ylabel('risetimes (us)')\n",
    "#figure 12"
   ]
  },
  {
   "cell_type": "code",
   "execution_count": null,
   "metadata": {
    "collapsed": false
   },
   "outputs": [],
   "source": [
    "plt.figure()\n",
    "ax1 = plt.subplot(211)\n",
    "lch.hist_err(tdays[energies<0.9],bins=50);\n",
    "\n",
    "ax2 = plt.subplot(212, sharex=ax1)\n",
    "lch.hist_err(tdays[energies<3],bins=50);\n",
    "plt.xlabel('tdays')\n",
    "plt.ylabel('counts')\n",
    "#figure 16"
   ]
  },
  {
   "cell_type": "code",
   "execution_count": null,
   "metadata": {
    "collapsed": false
   },
   "outputs": [],
   "source": [
    "plt.figure()\n",
    "plt.hist(rise_time[energies==5], bins = 100)\n",
    "plt.xlim([0,4])"
   ]
  },
  {
   "cell_type": "code",
   "execution_count": null,
   "metadata": {
    "collapsed": true
   },
   "outputs": [],
   "source": [
    "lshell_data_dict = {\n",
    "        \"As 73\": [125.45,33.479,0.11000,13.799,12.741,1.4143,0.077656,80.000,0.0000,11.10,80.0],\n",
    "        \"Ge 68\": [6070.7,1.3508,0.11400,692.06,638.98,1.2977,0.077008,271.00,0.0000,10.37,271.0],\n",
    "        \"Ga 68\": [520.15,5.1139,0.11000,57.217,52.828,1.1936,0.076426,271.00,0.0000,9.66,271.0],\n",
    "        #\"Ga 68\": [703.15,5.1139,0.11000,77.217,70.828,1.1936,0.076426,271.00,0.0000,9.66,271.0],\n",
    "        \"Zn 65\": [2117.8,2.2287,0.10800,228.72,211.18,1.0961,0.075877,244.00,0.0058000,8.98,244.0],\n",
    "        #\"Zn 65\": [2329.8,2.2287,0.10800,251.72,230.18,1.0961,0.075877,244.00,0.0058000,8.98,244.0],\n",
    "        #\"Zn 65\": [2117.8,2.2287,0.10800,228.72,211.18,0.998,0.075877,244.00,0.0058000,8.98,244.0],\n",
    "        \"Ni 56\": [16.200,23.457,0.10200,1.6524,1.5257,0.92560,0.074906,5.9000,0.39000,7.71,5.9],\n",
    "        \"Co 56/58\": [100.25,8.0,0.10200,10.226,9.4412,0.84610,0.074449,71.000,0.78600,7.11,77.0],\n",
    "        \"Co 57\": [27.500,8.0,0.10200,2.8050,2.5899,0.84610,0.074449,271.00,0.78600,7.11,271.0],\n",
    "        \"Fe 55\": [459.20,11.629,0.10600,48.675,44.942,0.76900,0.074003,996.00,0.96000,6.54,996.45],\n",
    "        \"Mn 54\": [223.90,9.3345,0.10200,22.838,21.086,0.69460,0.073570,312.00,1.0000,5.99,312.0],\n",
    "        \"Cr 51\": [31.500,15.238,0.10100,3.1815,2.9375,0.62820,0.073182,28.000,1.0000,5.46,28.0],\n",
    "        \"V 49\": [161.46,12.263,0.10000,16.146,14.908,0.56370,0.072803,330.00,1.0000,4.97,330.0],\n",
    "        }"
   ]
  },
  {
   "cell_type": "code",
   "execution_count": null,
   "metadata": {
    "collapsed": false
   },
   "outputs": [],
   "source": [
    "lshell_data_dict['As 73']"
   ]
  },
  {
   "cell_type": "code",
   "execution_count": null,
   "metadata": {
    "collapsed": true
   },
   "outputs": [],
   "source": []
  },
  {
   "cell_type": "code",
   "execution_count": null,
   "metadata": {
    "collapsed": false
   },
   "outputs": [],
   "source": [
    "k = lshell_data_dict.keys()"
   ]
  },
  {
   "cell_type": "code",
   "execution_count": null,
   "metadata": {
    "collapsed": false
   },
   "outputs": [],
   "source": [
    "for key in k:\n",
    "    print(lshell_data_dict[key])"
   ]
  },
  {
   "cell_type": "code",
   "execution_count": null,
   "metadata": {
    "collapsed": false
   },
   "outputs": [],
   "source": [
    "kshell = []\n",
    "lshell = []\n",
    "\n",
    "z = lshell_data_dict.keys()\n",
    "for key in z:\n",
    "    x = lshell_data_dict[key]\n",
    "    kshell.append(x[9])\n",
    "    lshell.append(x[5])\n",
    "\n",
    "plt.figure()\n",
    "\n",
    "for k in kshell:\n",
    "    plt.axvline(x=k, color = 'r')\n",
    "    \n",
    "for l in lshell:\n",
    "    plt.axvline(x=l, color = 'g')\n",
    "\n",
    "lch.hist_err(energies,bins=500);\n"
   ]
  },
  {
   "cell_type": "code",
   "execution_count": null,
   "metadata": {
    "collapsed": true
   },
   "outputs": [],
   "source": []
  },
  {
   "cell_type": "code",
   "execution_count": null,
   "metadata": {
    "collapsed": true
   },
   "outputs": [],
   "source": []
  }
 ],
 "metadata": {
  "kernelspec": {
   "display_name": "Python [default]",
   "language": "python",
   "name": "python3"
  },
  "language_info": {
   "codemirror_mode": {
    "name": "ipython",
    "version": 3
   },
   "file_extension": ".py",
   "mimetype": "text/x-python",
   "name": "python",
   "nbconvert_exporter": "python",
   "pygments_lexer": "ipython3",
   "version": "3.5.2"
  }
 },
 "nbformat": 4,
 "nbformat_minor": 2
}
