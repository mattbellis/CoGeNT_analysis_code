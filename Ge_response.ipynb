{
 "metadata": {
  "name": "",
  "signature": "sha256:8227f4111ee01cbf49e538eb2a936418999c42c061352a1f0112588dab18d208"
 },
 "nbformat": 3,
 "nbformat_minor": 0,
 "worksheets": [
  {
   "cells": [
    {
     "cell_type": "code",
     "collapsed": false,
     "input": [
      "import matplotlib.pylab as plt\n",
      "%matplotlib inline\n",
      "import numpy as np"
     ],
     "language": "python",
     "metadata": {},
     "outputs": [],
     "prompt_number": 1
    },
    {
     "cell_type": "code",
     "collapsed": false,
     "input": [
      "def Ge_response(x,k0,k1,n):\n",
      "    \n",
      "    y = np.zeros(len(x))\n",
      "    \n",
      "    b = [1.1,1.3]\n",
      "    \n",
      "    index0 = x<b[0]\n",
      "    index1 = (x>=b[0])*(x<=b[1])\n",
      "    index2 = x>b[1]\n",
      "    \n",
      "    i0 = np.where(index0==True)[0][-1]\n",
      "    i1 = np.where(index2==True)[0][0]\n",
      "    \n",
      "    index = x>b[1]\n",
      "    y[index] = np.exp(-k0*x[index])\n",
      "    \n",
      "    index = (x>0.2)*(x<b[0])\n",
      "    y[index] = n*np.exp(-k1*x[index])\n",
      "    \n",
      "    y0 = y[i0]; x0 = x[i0]\n",
      "    y1 = y[i1]; x1 = x[i1]\n",
      "    \n",
      "    print x0,y0\n",
      "    print x1,y1\n",
      "    \n",
      "    slope = (y1-y0)/(x1-x0)\n",
      "    intercept = y1 - slope*x1\n",
      "    \n",
      "    y[i0+1:i1] = intercept + slope*x[i0+1:i1]\n",
      "    \n",
      "    return y"
     ],
     "language": "python",
     "metadata": {},
     "outputs": [],
     "prompt_number": 15
    },
    {
     "cell_type": "code",
     "collapsed": false,
     "input": [
      "x = np.linspace(0.5,3,1000)\n",
      "\n",
      "y = Ge_response(x,0.05,3.5,20.5)\n",
      "plt.plot(x,y,linewidth=4)\n",
      "plt.plot(x,np.exp(-0.0001*x),linewidth=2,color='red',linestyle='--')\n",
      "plt.ylim(0,2)"
     ],
     "language": "python",
     "metadata": {},
     "outputs": [
      {
       "output_type": "stream",
       "stream": "stdout",
       "text": [
        "1.0980980981 0.439148147415\n",
        "1.3008008008 0.93702994391\n"
       ]
      },
      {
       "metadata": {},
       "output_type": "pyout",
       "prompt_number": 24,
       "text": [
        "(0, 2)"
       ]
      },
      {
       "metadata": {},
       "output_type": "display_data",
       "png": "[encoded data removed]",
       "text": [
        "<matplotlib.figure.Figure at 0x7fbe75630290>"
       ]
      }
     ],
     "prompt_number": 24
    },
    {
     "cell_type": "code",
     "collapsed": false,
     "input": [],
     "language": "python",
     "metadata": {},
     "outputs": []
    }
   ],
   "metadata": {}
  }
 ]
}