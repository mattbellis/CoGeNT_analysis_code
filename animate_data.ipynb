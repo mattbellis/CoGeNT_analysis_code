{
 "cells": [
  {
   "cell_type": "code",
   "execution_count": 1,
   "metadata": {
    "collapsed": false
   },
   "outputs": [],
   "source": [
    "import numpy as np\n",
    "import lichen.lichen as lch\n",
    "import matplotlib.pyplot as plt\n",
    "\n",
    "from datetime import datetime,timedelta,date\n",
    "import matplotlib.dates as mdates\n",
    "import matplotlib.ticker as ticker\n",
    "from cogent_utilities import sec2days\n",
    "\n",
    "import sys\n",
    "#import seaborn as sn\n",
    "\n",
    "#%matplotlib notebook\n",
    "%matplotlib inline"
   ]
  },
  {
   "cell_type": "code",
   "execution_count": 2,
   "metadata": {
    "collapsed": false
   },
   "outputs": [],
   "source": [
    "#from plotly.widgets import GraphWidget\n",
    "\n",
    "#from IPython.html import widgets \n",
    "#from ipywidgets import widgets\n",
    "#from IPython.display import display, clear_output\n",
    "#import plotly"
   ]
  },
  {
   "cell_type": "code",
   "execution_count": 33,
   "metadata": {
    "collapsed": false
   },
   "outputs": [
    {
     "name": "stdout",
     "output_type": "stream",
     "text": [
      "9318\n"
     ]
    }
   ],
   "source": [
    "vals = np.loadtxt('data/LE.txt')\n",
    "\n",
    "seconds = vals[:,0]\n",
    "org_days = sec2days(seconds)\n",
    "org_energies = vals[:,1]\n",
    "org_risetimes = vals[:,2]\n",
    "\n",
    "elo = 0.5\n",
    "ehi = 3.3\n",
    "enbins = 70\n",
    "ewidth = (ehi-elo)/enbins\n",
    "\n",
    "dlo = 0.0\n",
    "dhi = 1240.\n",
    "dnbins = 62\n",
    "dwidth = (dhi-dlo)/dnbins\n",
    "\n",
    "rlo = 0.0\n",
    "rhi = 5.0\n",
    "rnbins = 120\n",
    "rwidth = (rhi-rlo)/rnbins\n",
    "\n",
    "index = np.ones(len(org_days)).astype(bool)\n",
    "\n",
    "org_index = index.copy()\n",
    "\n",
    "print len(org_days[org_energies<ehi])"
   ]
  },
  {
   "cell_type": "code",
   "execution_count": 34,
   "metadata": {
    "collapsed": false
   },
   "outputs": [],
   "source": [
    "edata = []\n",
    "ddata = []\n",
    "rtdata = []\n",
    "\n",
    "# Sliding window\n",
    "ndays = 30\n",
    "nslices = int(dhi)\n",
    "tag = \"sliding\"\n",
    "\n",
    "for i in range(0,nslices):\n",
    "    daylo = i\n",
    "    dayhi = ndays + i\n",
    "\n",
    "    #print daylo\n",
    "    #print dayhi\n",
    "\n",
    "    index = org_days>daylo\n",
    "    index *= org_days<dayhi\n",
    "    index *= org_energies>elo\n",
    "    index *= org_energies<ehi\n",
    "\n",
    "    days = org_days[index]\n",
    "    energies = org_energies[index]\n",
    "    risetimes = org_risetimes[index]\n",
    "\n",
    "    edata.append(energies)\n",
    "    ddata.append(days)\n",
    "    rtdata.append(risetimes)"
   ]
  },
  {
   "cell_type": "code",
   "execution_count": 35,
   "metadata": {
    "collapsed": false
   },
   "outputs": [],
   "source": [
    "from ipywidgets import interact"
   ]
  },
  {
   "cell_type": "code",
   "execution_count": 48,
   "metadata": {
    "collapsed": false
   },
   "outputs": [],
   "source": [
    "\n",
    "def plot_data(x):\n",
    "    \n",
    "    # Sliding window\n",
    "    \n",
    "    days = ddata[x]\n",
    "    energies = edata[x]\n",
    "    risetimes = rtdata[x]\n",
    "\n",
    "    fig = plt.figure(figsize=(16,12))\n",
    "    ax0 = fig.add_subplot(3,1,1)\n",
    "    ax1 = fig.add_subplot(3,1,2)\n",
    "    ax2 = fig.add_subplot(3,1,3)\n",
    "\n",
    "    #plt.plot(energies)\n",
    "    lch.hist_err(energies,bins=enbins,linewidth=2,range=(elo,ehi),axes=ax0)\n",
    "    #plt.hist(energies,bins=enbins,range=(elo,ehi))\n",
    "    #name = \"# interactions/ %0.2f keVee\" % (ewidth)\n",
    "    #plt.ylabel(name,fontsize=14)\n",
    "    #plt.xlabel('Recoil energy (keVee)',fontsize=18)\n",
    "    plt.ylim(0,25) # This might have to be changed for sliding or discrete\n",
    "    #plt.xlim(elo,ehi)\n",
    "    #plt.tight_layout()\n",
    "    lch.hist_err(days,bins=dnbins,linewidth=2,range=(dlo,dhi),axes=ax1)\n",
    "    \n",
    "    lch.hist_err(risetimes,bins=rnbins,linewidth=2,range=(rlo,rhi),axes=ax2)\n",
    "    ax2.set_ylim(0,25)\n",
    "    ax2.set_xlim(rlo,rhi)\n",
    "\n",
    "    \n",
    "    plt.show()\n",
    "\n",
    "    return x"
   ]
  },
  {
   "cell_type": "code",
   "execution_count": 49,
   "metadata": {
    "collapsed": false
   },
   "outputs": [
    {
     "data": {
      "image/png": "[encoded data removed]",
      "text/plain": [
       "<matplotlib.figure.Figure at 0x7fc7a4bd1f50>"
      ]
     },
     "metadata": {},
     "output_type": "display_data"
    },
    {
     "data": {
      "text/plain": [
       "0"
      ]
     },
     "metadata": {},
     "output_type": "display_data"
    }
   ],
   "source": [
    "interact(plot_data,x=(0,1238,1))"
   ]
  },
  {
   "cell_type": "code",
   "execution_count": 42,
   "metadata": {
    "collapsed": false
   },
   "outputs": [
    {
     "data": {
      "text/plain": [
       "0.0"
      ]
     },
     "execution_count": 42,
     "metadata": {},
     "output_type": "execute_result"
    }
   ],
   "source": [
    "rlo\n"
   ]
  },
  {
   "cell_type": "code",
   "execution_count": 43,
   "metadata": {
    "collapsed": false
   },
   "outputs": [
    {
     "data": {
      "text/plain": [
       "5.0"
      ]
     },
     "execution_count": 43,
     "metadata": {},
     "output_type": "execute_result"
    }
   ],
   "source": [
    "rhi"
   ]
  },
  {
   "cell_type": "code",
   "execution_count": null,
   "metadata": {
    "collapsed": true
   },
   "outputs": [],
   "source": []
  }
 ],
 "metadata": {
  "kernelspec": {
   "display_name": "Python 2",
   "language": "python",
   "name": "python2"
  },
  "language_info": {
   "codemirror_mode": {
    "name": "ipython",
    "version": 2
   },
   "file_extension": ".py",
   "mimetype": "text/x-python",
   "name": "python",
   "nbconvert_exporter": "python",
   "pygments_lexer": "ipython2",
   "version": "2.7.12"
  }
 },
 "nbformat": 4,
 "nbformat_minor": 0
}
